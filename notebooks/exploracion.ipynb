{
 "cells": [
  {
   "cell_type": "code",
   "execution_count": null,
   "id": "a041f3ee",
   "metadata": {},
   "outputs": [],
   "source": [
    "# jupyter Notebooks para pruebas y prototipos"
   ]
  }
 ],
 "metadata": {
  "language_info": {
   "name": "python"
  }
 },
 "nbformat": 4,
 "nbformat_minor": 5
}
